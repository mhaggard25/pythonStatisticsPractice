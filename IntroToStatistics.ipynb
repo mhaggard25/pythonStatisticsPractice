{
 "cells": [
  {
   "cell_type": "markdown",
   "metadata": {},
   "source": [
    "# Intro to Statistics - The Organic Chemistry Tutor - Lesson 01\n",
    "YouTube - [Introduction to Statistics](https://youtu.be/XZo4xyJXCak?si=cbuSKSl20ERRs63s)"
   ]
  },
  {
   "cell_type": "markdown",
   "metadata": {},
   "source": [
    "What are the mean, median, mode, and range? \n",
    "- The mean is the average of all of the numbers.\n",
    "- The median is the middle number of the sorted list.\n",
    "- The mode is the the number that appears the most.\n",
    "- The range is the difference between the largest number and the smallest number.\n",
    "\n",
    "1. Find the mean, median, mode, and range of the following dataset. 10, 7, 14, 23, 15, 7, 32\n",
    "    - There are a couple of different ways to approach this problem. \n",
    "        - First, I could just perform the actions. For example, to find the mean, I could just add up all of the numbers and divide by the length of the list.\n",
    "        - I could use the statistics library to use the statistics methods that are baked in. Let's use this one since the data set is small and should be easy to perform operations on. (Later I might want to use NumPy or SciPi)"
   ]
  },
  {
   "cell_type": "code",
   "execution_count": 73,
   "metadata": {},
   "outputs": [
    {
     "name": "stdout",
     "output_type": "stream",
     "text": [
      "Here is the sorted dataset: [7, 7, 10, 14, 15, 23, 32]\n",
      "The mean is: 15.43\n",
      "The median is: 14\n",
      "The mode is: 7\n",
      "The range is: 25\n"
     ]
    }
   ],
   "source": [
    "#import statistics library\n",
    "from statistics import mean, median, mode\n",
    "\n",
    "# create a list of the dataset of numbers.\n",
    "dataset = [10, 7, 14, 23, 15, 7, 32]\n",
    "\n",
    "# sort the numbers using the sorted() method.\n",
    "dataset = sorted(dataset)\n",
    "\n",
    "# display the sorted dataset\n",
    "print('Here is the sorted dataset:', dataset)\n",
    "\n",
    "# Find the Mean, Meadian and Mode\n",
    "print('The mean is:', round(mean(dataset), 2)) # I use the round method here to round to 2 decimal spots for easy reading.\n",
    "print('The median is:', median(dataset))\n",
    "print('The mode is:', mode(dataset))\n",
    "\n",
    "# find the range of the dataset\n",
    "print('The range is:', dataset[len(dataset) - 1] - dataset[0])"
   ]
  },
  {
   "cell_type": "markdown",
   "metadata": {},
   "source": [
    "2. Find the mean, median, mode and range of the following dataset: 15, 21, 59, 15, 37, 59, 11, 41\n",
    "    - I will apply the same techniques here as I did above to find the values, however, this problem is a little different than the first problem. \n",
    "        - This problem has 8 numbers in the dataset. The median will be calculated by finding the mean of the two numbers in the middile since there isn't a 'middle number'\n",
    "        - This dataset is 'bimodal' meaning there are 2 numbers (15 and 59) that would qualify for the number that appears most often. Python has a built in method called 'multimode' in the statistics library to handle this situation."
   ]
  },
  {
   "cell_type": "code",
   "execution_count": 74,
   "metadata": {},
   "outputs": [
    {
     "name": "stdout",
     "output_type": "stream",
     "text": [
      "Here is the sorted list: [11, 15, 15, 21, 37, 41, 59, 59]\n",
      "The mean is: 32.25\n",
      "The median is: 29.0\n",
      "The mode is: [15, 59]\n",
      "The range is: 48\n"
     ]
    }
   ],
   "source": [
    "# import the multimode method from statistics\n",
    "from statistics import multimode\n",
    "\n",
    "# create a list of the dataset of numbers\n",
    "dataset = [15, 21, 59, 15, 37, 59, 11, 41]\n",
    "\n",
    "# sort the dataset\n",
    "dataset = sorted(dataset)\n",
    "\n",
    "# display the sorted list\n",
    "print('Here is the sorted list:', dataset)\n",
    "\n",
    "# find the mean, median, and mode\n",
    "print('The mean is:', round(mean(dataset), 2)) # use the round method to round to 2 decimal places.\n",
    "print('The median is:', median(dataset))\n",
    "print('The mode is:', multimode(dataset))\n",
    "\n",
    "# find the range of the dataset\n",
    "print('The range is:', dataset[len(dataset) - 1] - dataset[0])"
   ]
  },
  {
   "cell_type": "markdown",
   "metadata": {},
   "source": [
    "## Finding the quartiles and the interquartile range. \n",
    "- Quartiles are a division of observations in four defined intervals based on the values of the data and how they compare to the entire set of observations.\n",
    "- The smallest value is the min and the largest value is the max. Values in between are Q1, Q2, and Q3.\n",
    "- How do we find Q1, Q2, Q3\n",
    "    - Q2 is the mean of the entire dataset.\n",
    "    - Q1 is the mean of the lower half of the dataset, not including Q2.\n",
    "    - Q3 is the mean of the upper half of the dataset, not including Q2.\n",
    "    - This means that the data must be sorted in order to find the quartiles.\n",
    "- The Interquartile Range (IQR) is the distance between Q1 and Q3. \n",
    "`IQR = Q3 - Q1`\n",
    "\n",
    "- Why is the IQR useful? \n",
    "    - It allows us to find whether or not a number is an outlier in the dataset or not. If the number is within the IQR, then the number is not an outlier. If it is NOT within the IQR, the number is an outlier.\n",
    "`[Q1 - 1.5*IQR, Q3 + 1.5*IQR]`\n",
    "\n",
    "Python has a quantiles method in statistics that allows the developer to divide the data set into n parts. We will use 4 for quartiles.\n",
    "\n",
    "3. Find the quartiles and the Interquarile Range of the following dataset: 7, 11, 14, 5, 8, 27, 16, 10, 13, 17, 16.\n"
   ]
  },
  {
   "cell_type": "code",
   "execution_count": 75,
   "metadata": {},
   "outputs": [
    {
     "name": "stdout",
     "output_type": "stream",
     "text": [
      "Here is the sorted dataset: [5, 7, 8, 10, 11, 13, 14, 16, 16, 17, 27]\n",
      "Here are the quantiles: [8.0, 13.0, 16.0]\n",
      "Here is the IQR: 8.0\n"
     ]
    }
   ],
   "source": [
    "# import the quantiles method from statistics\n",
    "from statistics import quantiles\n",
    "\n",
    "# create a list of the dataset.\n",
    "dataset = [7, 11, 14, 5, 8, 27, 16, 10, 13, 17, 16]\n",
    "\n",
    "# sort the dataset\n",
    "dataset = sorted(dataset)\n",
    "print('Here is the sorted dataset:', dataset)\n",
    "\n",
    "# create an empty list to hold quantile values\n",
    "quarts = []\n",
    "\n",
    "# find the quartiles\n",
    "for q in quantiles(dataset, n = 4):\n",
    "    quarts.append(round(q, 2)) # add the quantiles to the empty list as the loop iterates.\n",
    "\n",
    "# check to see if values appended correctly.\n",
    "print('Here are the quantiles:', quarts)\n",
    "\n",
    "# Find the IQR \n",
    "iqr = quarts[len(quarts) - 1] - quarts[0]\n",
    "\n",
    "print('Here is the IQR:', iqr)\n"
   ]
  },
  {
   "cell_type": "markdown",
   "metadata": {},
   "source": [
    "4. Find any outliers in the previous dataset.\n",
    "    - Recall above that outliers are defined by any number that is outside the IQR. `[Q1 - 1.5*IQR, Q3 + 1.5*IQR]`"
   ]
  },
  {
   "cell_type": "code",
   "execution_count": 76,
   "metadata": {},
   "outputs": [
    {
     "name": "stdout",
     "output_type": "stream",
     "text": [
      "The minimum IQR value is: -4.0\n",
      "The maximum IQR value is: 28.0\n",
      "There are no outliers in this dataset.\n"
     ]
    }
   ],
   "source": [
    "# for simplicity I will define q1, q2, and q3 values.\n",
    "q1 = quarts[0]\n",
    "q2 = quarts[1]\n",
    "q3 = quarts[2]\n",
    "\n",
    "# setup formulas for min_IQR_value and max_IQR_value\n",
    "min_IQR_value = q1 - (1.5 * iqr)\n",
    "max_IQR_value = q3 + (1.5 * iqr)\n",
    "\n",
    "# print these values to see them for better understanding.\n",
    "print('The minimum IQR value is:', min_IQR_value)\n",
    "print('The maximum IQR value is:', max_IQR_value)\n",
    "\n",
    "# setup an empty list for any outliers.\n",
    "outliers = []\n",
    "\n",
    "# determine whether or not there are any outliers.\n",
    "for number in dataset:\n",
    "    if number < min_IQR_value:\n",
    "        outliers.append(number)\n",
    "    if number > max_IQR_value:\n",
    "        outliers.append(number)\n",
    "\n",
    "if len(outliers) > 0:\n",
    "    print('Here are the outliers:', outliers)\n",
    "else:\n",
    "    print('There are no outliers in this dataset.')"
   ]
  },
  {
   "cell_type": "markdown",
   "metadata": {},
   "source": [
    "*We can see that there are no outliers in this dataset because none of the numbers in the dataset are less than -4 or greater than 28.*"
   ]
  },
  {
   "cell_type": "markdown",
   "metadata": {},
   "source": [
    "## Box and Whisker Plot\n",
    "A box and whisker plot, also known as simply a box plot, is a method for demonstrating graphically the locality, spread, and skewness groups of numerical data through their quartiles. We can create a box and whisker plot using matplotlib. Matplotlib is a Python library for creating static, animated, and interactive vizualizations in Python. We can install matplotlib using pip.\n",
    "\n",
    "5. Find the q1, q2, q3, and IQR of the following dataset, identify any outliers, and create a box and whisker plot. 16, 18, 28, 13, 50, 31, 25, 22, 18, 23, 29, 38"
   ]
  },
  {
   "cell_type": "code",
   "execution_count": 77,
   "metadata": {},
   "outputs": [
    {
     "name": "stdout",
     "output_type": "stream",
     "text": [
      "Here is the sorted dataset: [13, 16, 18, 18, 22, 23, 25, 28, 29, 31, 38, 50]\n",
      "Here are the quartiles: [18.0, 24.0, 30.5]\n",
      "Here is the IQR: 12.5\n",
      "Here are the outliers: [50]\n"
     ]
    },
    {
     "data": {
      "image/png": "[encoded data removed]",
      "text/plain": [
       "<Figure size 640x480 with 1 Axes>"
      ]
     },
     "metadata": {},
     "output_type": "display_data"
    }
   ],
   "source": [
    "# import matplotlib as plt (for simplicity of typing)\n",
    "import matplotlib.pyplot as plt\n",
    "\n",
    "#import statistics library\n",
    "from statistics import mean, median, mode\n",
    "\n",
    "# import the quantiles method from statistics\n",
    "from statistics import quantiles\n",
    "\n",
    "# create the dataset list\n",
    "dataset = [16, 18, 28, 13, 50, 31, 25, 22, 18, 23, 29, 38]\n",
    "\n",
    "# sort the dataset. This step isn't necessary for matplotlib, but to find the values the way that we did before, it is.\n",
    "dataset = sorted(dataset)\n",
    "\n",
    "print('Here is the sorted dataset:', dataset)\n",
    "\n",
    "# go ahead and setup the quartlies list that we will need.\n",
    "quartiles = []\n",
    "\n",
    "# find the quartiles\n",
    "for q in quantiles(dataset, n=4):\n",
    "    quartiles.append(q)\n",
    "\n",
    "print('Here are the quartiles:', quartiles)\n",
    "\n",
    "# initialize q1, q2, q3 for simplicity\n",
    "q1 = quartiles[0]\n",
    "q2 = quartiles[1]\n",
    "q3 = quartiles[2]\n",
    "\n",
    "# find IQR\n",
    "iqr = q3 - q1\n",
    "\n",
    "print('Here is the IQR:', iqr)\n",
    "\n",
    "# find the min_IQR value and max_IQR value\n",
    "min_IQR = q1 - (1.5 * iqr)\n",
    "max_IQR = q3 + (1.5 * iqr)\n",
    "\n",
    "# find any outliers\n",
    "outliers = []\n",
    "for number in dataset:\n",
    "    if number < min_IQR:\n",
    "        outliers.append(number)\n",
    "    if number > max_IQR:\n",
    "        outliers.append(number)\n",
    "\n",
    "if len(outliers) > 0:\n",
    "    print('Here are the outliers:', outliers)\n",
    "else:\n",
    "    print('There are no outliers')\n",
    "\n",
    "plt.boxplot(dataset, vert=False)\n",
    "plt.title('Box and Whisker Plot')\n",
    "plt.show()\n"
   ]
  },
  {
   "cell_type": "markdown",
   "metadata": {},
   "source": [
    "*note: The `statistics.quantiles` function in Python uses the exclusive method to calculate quartiles, which excludes the median when dividing the dataset into lower and upper halves. This can result in slightly different values than expected, particularly if you're used to the inclusive method (which includes the median in both halves). To calculate quartiles using the inclusive method, use NumPy's `percentile` function with the appropriate interpolation setting (\"linear\" or \"midpoint\") or manually compute the quartiles by including the median in the split halves.*"
   ]
  },
  {
   "cell_type": "markdown",
   "metadata": {},
   "source": [
    "## What did I learn? \n",
    "In this lesson, I revisited foundational statistical concepts such as mean, median, mode, and range, and learned how to calculate each of these using Python’s statistics library. Prior to this lesson, I was unaware of the existence of this library, and discovering it is valuable because it simplifies my code, making it more readable and efficient. Additionally, I gained a deeper understanding of quantiles, particularly quartiles. While I was familiar with the basic idea of dividing data into quarters to analyze its distribution, I was not aware of the specific terminology and more detailed study behind these concepts. Understanding quantiles is important because they help identify outliers and analyze the overall distribution of a dataset, which will enhance my ability to interpret data and make more informed projections.\n",
    "\n",
    "## What's Next?\n",
    "This lesson serves as a strong foundation for applying these statistical principles to the analysis of baseball statistics and other datasets. For my first project, I plan to download a set of baseball statistics from the 2024 season, select a particular statistic, and calculate the relevant statistical measures. This will allow me to rank players based on the chosen stat and gain more comprehensive insights into their performance."
   ]
  }
 ],
 "metadata": {
  "kernelspec": {
   "display_name": "Python 3",
   "language": "python",
   "name": "python3"
  },
  "language_info": {
   "codemirror_mode": {
    "name": "ipython",
    "version": 3
   },
   "file_extension": ".py",
   "mimetype": "text/x-python",
   "name": "python",
   "nbconvert_exporter": "python",
   "pygments_lexer": "ipython3",
   "version": "3.9.13"
  }
 },
 "nbformat": 4,
 "nbformat_minor": 2
}
